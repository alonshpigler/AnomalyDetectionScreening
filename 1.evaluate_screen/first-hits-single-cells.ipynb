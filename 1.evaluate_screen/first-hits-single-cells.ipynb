{
 "cells": [
  {
   "cell_type": "code",
   "execution_count": 1,
   "metadata": {},
   "outputs": [],
   "source": [
    "import pandas as pd\n",
    "import numpy as np\n",
    "import seaborn as sb\n",
    "import os\n",
    "import sys\n",
    "import umap\n",
    "import time\n",
    "\n",
    "from tqdm import tqdm\n",
    "import matplotlib.pyplot as plt\n",
    "\n",
    "sys.path.append(\"../profiling/\")\n",
    "import profiling"
   ]
  },
  {
   "cell_type": "code",
   "execution_count": 2,
   "metadata": {},
   "outputs": [],
   "source": [
    "PROJECT_ROOT = \"/raid/data/cellpainting/TAORF/\"\n",
    "\n",
    "EXP = \"30epochs_lr0005const_bs32_aug\"\n",
    "\n",
    "PERT_NAME = \"pert_name\"\n",
    "CTRL_NAME = \"EMPTY_\"\n",
    "\n",
    "REG_PARAM = 1e-2\n",
    "\n",
    "CORR_MATRIX = \"data/efn_plate_grouping_8bs_lr1e-2-conv6a.csv\""
   ]
  },
  {
   "cell_type": "code",
   "execution_count": 3,
   "metadata": {},
   "outputs": [],
   "source": [
    "# Load metadata\n",
    "metadata = pd.read_csv(os.path.join(PROJECT_ROOT, \"inputs/metadata/index_taorf_minus2wells.csv\"))\n",
    "Y = pd.read_csv(\"data/TAORF_MOA_MATCHES.csv\")\n",
    "profiles = pd.merge(metadata, Y, left_on=\"broad_sample\", right_on=\"Var1\")\n",
    "meta = pd.concat((profiles, metadata[metadata[PERT_NAME] == CTRL_NAME]), axis=0).reset_index()"
   ]
  },
  {
   "cell_type": "markdown",
   "metadata": {},
   "source": [
    "# Main Function - Find first hits"
   ]
  },
  {
   "cell_type": "code",
   "execution_count": 4,
   "metadata": {},
   "outputs": [],
   "source": [
    "def find_first_hits(features, feats, pert_name, control):\n",
    "    results = []\n",
    "\n",
    "    gen = features[features[pert_name] != control].groupby([\"Metadata_Plate\", \"Metadata_Well\", pert_name])[\"val\"].count().reset_index().iterrows()\n",
    "    for k, r in tqdm(gen):\n",
    "        # Select samples in a well\n",
    "        s = time.time()\n",
    "        well = features.query(f\"Metadata_Plate == {r.Metadata_Plate} & Metadata_Well == '{r.Metadata_Well}'\").index\n",
    "        A = np.asarray(features.loc[well,feats])\n",
    "\n",
    "        # Get cells in other wells\n",
    "        others = features.query(f\"Metadata_Plate != {r.Metadata_Plate} | Metadata_Well != '{r.Metadata_Well}'\").index\n",
    "        B = np.asarray(features.loc[others,feats])\n",
    "\n",
    "        # Compute cosine similarity\n",
    "        C = np.dot(A, B.T)\n",
    "        An = np.linalg.norm(A, axis=1)\n",
    "        Bn = np.linalg.norm(B, axis=1)\n",
    "        cos = C / (An[:,np.newaxis] @ Bn[:,np.newaxis].T)\n",
    "\n",
    "        # Rank cells in other wells\n",
    "        ranking = np.argsort(-cos, axis=1)\n",
    "\n",
    "        # Find first hits\n",
    "        H = np.asarray(features.loc[others, pert_name]  == r[pert_name], dtype=np.uint8)\n",
    "        for h in range(len(well)):\n",
    "            hit = np.where(H[ranking[h]] == 1)[0][0]\n",
    "            results.append({\"Metadata_Plate\":r.Metadata_Plate, \n",
    "                            \"Metadata_Well\":r.Metadata_Well, \n",
    "                            \"pert_name\":r.pert_name,\n",
    "                            \"first_hit\": hit,\n",
    "                           })\n",
    "    return pd.DataFrame(data=results)"
   ]
  },
  {
   "cell_type": "markdown",
   "metadata": {},
   "source": [
    "# Summary statistics\n",
    "### Coefficient of variation: std/mean. \n",
    "Used to assess risk in finances. If variation is greater than the mean, the investment is too risky (below 1 is good)\n",
    "### Signal to noise ratio: mean/std. \n",
    "Used in image processing.\n",
    "If mean is greater than variance there is signal (above 1 is good)"
   ]
  },
  {
   "cell_type": "code",
   "execution_count": 5,
   "metadata": {},
   "outputs": [],
   "source": [
    "def summarize(results):\n",
    "    summary = results.groupby([PERT_NAME])[\"first_hit\"].mean().reset_index()\n",
    "    summary[\"std\"] = results.groupby([PERT_NAME])[\"first_hit\"].std().reset_index()[\"first_hit\"]\n",
    "    summary[\"top_percent\"] = (summary[\"first_hit\"] / len(results))*100\n",
    "    summary[\"percent_group\"] = np.ceil(summary[\"top_percent\"])\n",
    "    summary[\"coef_var\"] = summary[\"std\"] / summary[\"first_hit\"]\n",
    "    summary[\"signal_noise\"] = summary[\"first_hit\"] / summary[\"std\"]\n",
    "    return summary"
   ]
  },
  {
   "cell_type": "code",
   "execution_count": 6,
   "metadata": {},
   "outputs": [],
   "source": [
    "def visualize(summary):\n",
    "    plt.figure(figsize=(10,5))\n",
    "    summary = summary.sort_values(\"first_hit\")\n",
    "    sb.barplot(data=summary, x=PERT_NAME, y=\"top_percent\")\n",
    "    print(\"Treatments with hits in the top 1%:\", summary[summary[\"top_percent\"] <= 1].shape[0])\n",
    "    plt.show()\n",
    "    return summary"
   ]
  },
  {
   "cell_type": "markdown",
   "metadata": {},
   "source": [
    "# Load single-cell data"
   ]
  },
  {
   "cell_type": "code",
   "execution_count": 7,
   "metadata": {},
   "outputs": [
    {
     "name": "stderr",
     "output_type": "stream",
     "text": [
      "100%|██████████| 10835/10835 [00:28<00:00, 374.19it/s]\n"
     ]
    }
   ],
   "source": [
    "features = []\n",
    "for i in tqdm(meta.index):\n",
    "    filename = PROJECT_ROOT + \"outputs/\" + EXP + \"/features_conv6a/{}/{}/{}.npz\"\n",
    "    filename = filename.format(\n",
    "        meta.loc[i, \"Metadata_Plate\"], \n",
    "        meta.loc[i, \"Metadata_Well\"], \n",
    "        meta.loc[i, \"Metadata_Site\"]\n",
    "    )\n",
    "    if os.path.isfile(filename):\n",
    "        with open(filename, \"rb\") as data:\n",
    "            info = np.load(data)\n",
    "            features.append(info[\"features\"])\n",
    "    else:\n",
    "        features.append([])"
   ]
  },
  {
   "cell_type": "code",
   "execution_count": 8,
   "metadata": {},
   "outputs": [
    {
     "name": "stdout",
     "output_type": "stream",
     "text": [
      "Total images 10835 (40, 672)\n",
      "Total single cells: 814518\n"
     ]
    }
   ],
   "source": [
    "total_single_cells = 0\n",
    "for i in range(len(features)):\n",
    "    if len(features[i]) > 0:\n",
    "        total_single_cells += features[i].shape[0]\n",
    "\n",
    "print(\"Total images\",len(features),features[0].shape)\n",
    "print(\"Total single cells:\", total_single_cells)"
   ]
  },
  {
   "cell_type": "code",
   "execution_count": 9,
   "metadata": {},
   "outputs": [
    {
     "name": "stderr",
     "output_type": "stream",
     "text": [
      "100%|██████████| 10835/10835 [00:03<00:00, 2782.55it/s]\n"
     ]
    }
   ],
   "source": [
    "cols = [\"Metadata_Plate\",\"Metadata_Well\",\"Metadata_Site\",\"gene_name\",\"pert_name\",\"broad_sample\",\"pert_name_replicate\",\"val\"]\n",
    "sc_features = np.zeros((total_single_cells, features[0].shape[1]))\n",
    "sc_meta_idx = []\n",
    "k = 0\n",
    "for i in tqdm(range(len(features))):\n",
    "    cells = features[i].shape[0]\n",
    "    sc_features[k:k+cells,:] = features[i]\n",
    "    sc_meta_idx += [i]*cells\n",
    "    k += cells\n",
    "\n",
    "sc_meta = pd.merge(pd.DataFrame(sc_meta_idx, columns=[\"ID\"]), meta[cols], left_on=\"ID\", right_index=True)"
   ]
  },
  {
   "cell_type": "code",
   "execution_count": 10,
   "metadata": {},
   "outputs": [],
   "source": [
    "feats = [x for x in range(sc_features.shape[1])]"
   ]
  },
  {
   "cell_type": "code",
   "execution_count": 11,
   "metadata": {},
   "outputs": [],
   "source": [
    "sc_controls = sc_meta[sc_meta[PERT_NAME] == CTRL_NAME]\n",
    "sc_treatments = sc_meta[sc_meta[PERT_NAME] != CTRL_NAME]"
   ]
  },
  {
   "cell_type": "code",
   "execution_count": 12,
   "metadata": {},
   "outputs": [
    {
     "data": {
      "text/plain": [
       "((120892, 9), (693626, 9))"
      ]
     },
     "execution_count": 12,
     "metadata": {},
     "output_type": "execute_result"
    }
   ],
   "source": [
    "sc_controls.shape, sc_treatments.shape"
   ]
  },
  {
   "cell_type": "markdown",
   "metadata": {},
   "source": [
    "# Select a sample of single cells"
   ]
  },
  {
   "cell_type": "code",
   "execution_count": 13,
   "metadata": {},
   "outputs": [
    {
     "name": "stderr",
     "output_type": "stream",
     "text": [
      "1029it [00:26, 38.69it/s]\n"
     ]
    }
   ],
   "source": [
    "sc_sample = []\n",
    "gen = sc_treatments.groupby([\"Metadata_Plate\", \"Metadata_Well\", \"pert_name\"])[\"val\"].count().reset_index().iterrows()\n",
    "for k,r in tqdm(gen):\n",
    "    sc_sample.append(sc_treatments.query(f\"Metadata_Plate == {r.Metadata_Plate} & Metadata_Well == '{r.Metadata_Well}'\").sample(10))"
   ]
  },
  {
   "cell_type": "code",
   "execution_count": 14,
   "metadata": {},
   "outputs": [
    {
     "data": {
      "text/plain": [
       "(10290, 9)"
      ]
     },
     "execution_count": 14,
     "metadata": {},
     "output_type": "execute_result"
    }
   ],
   "source": [
    "sc_sample = pd.concat(sc_sample)\n",
    "sc_sample.shape"
   ]
  },
  {
   "cell_type": "markdown",
   "metadata": {},
   "source": [
    "# Single-cell analysis"
   ]
  },
  {
   "cell_type": "code",
   "execution_count": 15,
   "metadata": {},
   "outputs": [
    {
     "name": "stdout",
     "output_type": "stream",
     "text": [
      "(672,) (672, 672)\n"
     ]
    }
   ],
   "source": [
    "# Batch correction\n",
    "sc_control_features = pd.merge(sc_controls, pd.DataFrame(data=sc_features), how=\"left\", left_index=True, right_index=True)\n",
    "whN = profiling.WhiteningNormalizer(sc_control_features[feats], reg_param=REG_PARAM)"
   ]
  },
  {
   "cell_type": "code",
   "execution_count": 16,
   "metadata": {},
   "outputs": [],
   "source": [
    "# Profiling\n",
    "sc_sample_features = pd.merge(sc_sample, pd.DataFrame(data=sc_features), how=\"left\", left_index=True, right_index=True)\n",
    "whD = whN.normalize(sc_sample_features[feats])\n",
    "sc_sample_features[feats] = whD"
   ]
  },
  {
   "cell_type": "code",
   "execution_count": 17,
   "metadata": {},
   "outputs": [
    {
     "name": "stderr",
     "output_type": "stream",
     "text": [
      "1029it [03:59,  4.30it/s]\n"
     ]
    }
   ],
   "source": [
    "# Evaluation\n",
    "sc_results = find_first_hits(sc_sample_features, feats, PERT_NAME, CTRL_NAME)"
   ]
  },
  {
   "cell_type": "code",
   "execution_count": 18,
   "metadata": {},
   "outputs": [
    {
     "name": "stdout",
     "output_type": "stream",
     "text": [
      "Treatments with hits in the top 1%: 21\n"
     ]
    },
    {
     "data": {
      "image/png": "[encoded data removed]",
      "text/plain": [
       "<Figure size 720x360 with 1 Axes>"
      ]
     },
     "metadata": {
      "needs_background": "light"
     },
     "output_type": "display_data"
    },
    {
     "data": {
      "text/html": [
       "<div>\n",
       "<style scoped>\n",
       "    .dataframe tbody tr th:only-of-type {\n",
       "        vertical-align: middle;\n",
       "    }\n",
       "\n",
       "    .dataframe tbody tr th {\n",
       "        vertical-align: top;\n",
       "    }\n",
       "\n",
       "    .dataframe thead th {\n",
       "        text-align: right;\n",
       "    }\n",
       "</style>\n",
       "<table border=\"1\" class=\"dataframe\">\n",
       "  <thead>\n",
       "    <tr style=\"text-align: right;\">\n",
       "      <th></th>\n",
       "      <th>pert_name</th>\n",
       "      <th>first_hit</th>\n",
       "      <th>std</th>\n",
       "      <th>top_percent</th>\n",
       "      <th>percent_group</th>\n",
       "      <th>coef_var</th>\n",
       "      <th>signal_noise</th>\n",
       "    </tr>\n",
       "  </thead>\n",
       "  <tbody>\n",
       "    <tr>\n",
       "      <th>90</th>\n",
       "      <td>JUN_WT.2</td>\n",
       "      <td>25.76</td>\n",
       "      <td>79.221869</td>\n",
       "      <td>0.250340</td>\n",
       "      <td>1.0</td>\n",
       "      <td>3.075383</td>\n",
       "      <td>0.325163</td>\n",
       "    </tr>\n",
       "    <tr>\n",
       "      <th>133</th>\n",
       "      <td>PRKACA_WT.2</td>\n",
       "      <td>37.68</td>\n",
       "      <td>80.984362</td>\n",
       "      <td>0.366181</td>\n",
       "      <td>1.0</td>\n",
       "      <td>2.149267</td>\n",
       "      <td>0.465275</td>\n",
       "    </tr>\n",
       "    <tr>\n",
       "      <th>89</th>\n",
       "      <td>JUN_WT.1</td>\n",
       "      <td>48.70</td>\n",
       "      <td>169.526983</td>\n",
       "      <td>0.473275</td>\n",
       "      <td>1.0</td>\n",
       "      <td>3.481047</td>\n",
       "      <td>0.287270</td>\n",
       "    </tr>\n",
       "    <tr>\n",
       "      <th>46</th>\n",
       "      <td>CSNK1E_WT.2</td>\n",
       "      <td>53.30</td>\n",
       "      <td>89.134672</td>\n",
       "      <td>0.517979</td>\n",
       "      <td>1.0</td>\n",
       "      <td>1.672320</td>\n",
       "      <td>0.597972</td>\n",
       "    </tr>\n",
       "    <tr>\n",
       "      <th>56</th>\n",
       "      <td>DLL1_WT</td>\n",
       "      <td>56.76</td>\n",
       "      <td>120.526153</td>\n",
       "      <td>0.551603</td>\n",
       "      <td>1.0</td>\n",
       "      <td>2.123435</td>\n",
       "      <td>0.470935</td>\n",
       "    </tr>\n",
       "    <tr>\n",
       "      <th>147</th>\n",
       "      <td>RAF1_WT.1</td>\n",
       "      <td>58.86</td>\n",
       "      <td>112.042996</td>\n",
       "      <td>0.572012</td>\n",
       "      <td>1.0</td>\n",
       "      <td>1.903551</td>\n",
       "      <td>0.525334</td>\n",
       "    </tr>\n",
       "    <tr>\n",
       "      <th>65</th>\n",
       "      <td>ELK1_WT</td>\n",
       "      <td>66.20</td>\n",
       "      <td>95.791653</td>\n",
       "      <td>0.643343</td>\n",
       "      <td>1.0</td>\n",
       "      <td>1.447004</td>\n",
       "      <td>0.691083</td>\n",
       "    </tr>\n",
       "    <tr>\n",
       "      <th>37</th>\n",
       "      <td>CEBPA_WT.2</td>\n",
       "      <td>76.56</td>\n",
       "      <td>171.298660</td>\n",
       "      <td>0.744023</td>\n",
       "      <td>1.0</td>\n",
       "      <td>2.237443</td>\n",
       "      <td>0.446939</td>\n",
       "    </tr>\n",
       "    <tr>\n",
       "      <th>197</th>\n",
       "      <td>WWTR1_WT</td>\n",
       "      <td>76.74</td>\n",
       "      <td>141.570320</td>\n",
       "      <td>0.745773</td>\n",
       "      <td>1.0</td>\n",
       "      <td>1.844805</td>\n",
       "      <td>0.542063</td>\n",
       "    </tr>\n",
       "    <tr>\n",
       "      <th>31</th>\n",
       "      <td>CDC42_WT</td>\n",
       "      <td>83.88</td>\n",
       "      <td>88.635148</td>\n",
       "      <td>0.815160</td>\n",
       "      <td>1.0</td>\n",
       "      <td>1.056690</td>\n",
       "      <td>0.946351</td>\n",
       "    </tr>\n",
       "  </tbody>\n",
       "</table>\n",
       "</div>"
      ],
      "text/plain": [
       "       pert_name  first_hit         std  top_percent  percent_group  coef_var  \\\n",
       "90      JUN_WT.2      25.76   79.221869     0.250340            1.0  3.075383   \n",
       "133  PRKACA_WT.2      37.68   80.984362     0.366181            1.0  2.149267   \n",
       "89      JUN_WT.1      48.70  169.526983     0.473275            1.0  3.481047   \n",
       "46   CSNK1E_WT.2      53.30   89.134672     0.517979            1.0  1.672320   \n",
       "56       DLL1_WT      56.76  120.526153     0.551603            1.0  2.123435   \n",
       "147    RAF1_WT.1      58.86  112.042996     0.572012            1.0  1.903551   \n",
       "65       ELK1_WT      66.20   95.791653     0.643343            1.0  1.447004   \n",
       "37    CEBPA_WT.2      76.56  171.298660     0.744023            1.0  2.237443   \n",
       "197     WWTR1_WT      76.74  141.570320     0.745773            1.0  1.844805   \n",
       "31      CDC42_WT      83.88   88.635148     0.815160            1.0  1.056690   \n",
       "\n",
       "     signal_noise  \n",
       "90       0.325163  \n",
       "133      0.465275  \n",
       "89       0.287270  \n",
       "46       0.597972  \n",
       "56       0.470935  \n",
       "147      0.525334  \n",
       "65       0.691083  \n",
       "37       0.446939  \n",
       "197      0.542063  \n",
       "31       0.946351  "
      ]
     },
     "execution_count": 18,
     "metadata": {},
     "output_type": "execute_result"
    }
   ],
   "source": [
    "# Visualization\n",
    "sc_summary = summarize(sc_results)\n",
    "sc_summary = visualize(sc_summary)\n",
    "sc_summary.head(n=10)"
   ]
  },
  {
   "cell_type": "markdown",
   "metadata": {},
   "source": [
    "# Image-level analysis"
   ]
  },
  {
   "cell_type": "code",
   "execution_count": 19,
   "metadata": {},
   "outputs": [
    {
     "name": "stdout",
     "output_type": "stream",
     "text": [
      "(672,) (672, 672)\n"
     ]
    }
   ],
   "source": [
    "# Batch correction\n",
    "image_controls = sc_control_features.groupby([\"Metadata_Plate\", \"Metadata_Well\", \"Metadata_Site\", \"pert_name\"]).mean().reset_index()\n",
    "whN = profiling.WhiteningNormalizer(image_controls[feats], reg_param=REG_PARAM)"
   ]
  },
  {
   "cell_type": "code",
   "execution_count": 20,
   "metadata": {},
   "outputs": [],
   "source": [
    "# Profling\n",
    "image_features = pd.concat((sc_treatments, pd.DataFrame(data=sc_features)), axis=1)\n",
    "image_features = image_features.groupby([\"Metadata_Plate\", \"Metadata_Well\", \"Metadata_Site\", \"pert_name\"]).mean().reset_index()\n",
    "whD = whN.normalize(image_features[feats])\n",
    "image_features[feats] = whD"
   ]
  },
  {
   "cell_type": "code",
   "execution_count": 21,
   "metadata": {},
   "outputs": [
    {
     "name": "stderr",
     "output_type": "stream",
     "text": [
      "1029it [03:17,  5.21it/s]\n"
     ]
    }
   ],
   "source": [
    "# Evaluation\n",
    "img_results = find_first_hits(image_features, feats, PERT_NAME, CTRL_NAME)"
   ]
  },
  {
   "cell_type": "code",
   "execution_count": 22,
   "metadata": {},
   "outputs": [
    {
     "name": "stdout",
     "output_type": "stream",
     "text": [
      "Treatments with hits in the top 1%: 103\n"
     ]
    },
    {
     "data": {
      "image/png": "[encoded data removed]",
      "text/plain": [
       "<Figure size 720x360 with 1 Axes>"
      ]
     },
     "metadata": {
      "needs_background": "light"
     },
     "output_type": "display_data"
    },
    {
     "data": {
      "text/html": [
       "<div>\n",
       "<style scoped>\n",
       "    .dataframe tbody tr th:only-of-type {\n",
       "        vertical-align: middle;\n",
       "    }\n",
       "\n",
       "    .dataframe tbody tr th {\n",
       "        vertical-align: top;\n",
       "    }\n",
       "\n",
       "    .dataframe thead th {\n",
       "        text-align: right;\n",
       "    }\n",
       "</style>\n",
       "<table border=\"1\" class=\"dataframe\">\n",
       "  <thead>\n",
       "    <tr style=\"text-align: right;\">\n",
       "      <th></th>\n",
       "      <th>pert_name</th>\n",
       "      <th>first_hit</th>\n",
       "      <th>std</th>\n",
       "      <th>top_percent</th>\n",
       "      <th>percent_group</th>\n",
       "      <th>coef_var</th>\n",
       "      <th>signal_noise</th>\n",
       "    </tr>\n",
       "  </thead>\n",
       "  <tbody>\n",
       "    <tr>\n",
       "      <th>46</th>\n",
       "      <td>CSNK1E_WT.2</td>\n",
       "      <td>0.000000</td>\n",
       "      <td>0.000000</td>\n",
       "      <td>0.000000</td>\n",
       "      <td>0.0</td>\n",
       "      <td>NaN</td>\n",
       "      <td>NaN</td>\n",
       "    </tr>\n",
       "    <tr>\n",
       "      <th>140</th>\n",
       "      <td>PRKCE_WT.1</td>\n",
       "      <td>0.022222</td>\n",
       "      <td>0.149071</td>\n",
       "      <td>0.000240</td>\n",
       "      <td>1.0</td>\n",
       "      <td>6.708204</td>\n",
       "      <td>0.149071</td>\n",
       "    </tr>\n",
       "    <tr>\n",
       "      <th>90</th>\n",
       "      <td>JUN_WT.2</td>\n",
       "      <td>0.044444</td>\n",
       "      <td>0.298142</td>\n",
       "      <td>0.000480</td>\n",
       "      <td>1.0</td>\n",
       "      <td>6.708204</td>\n",
       "      <td>0.149071</td>\n",
       "    </tr>\n",
       "    <tr>\n",
       "      <th>89</th>\n",
       "      <td>JUN_WT.1</td>\n",
       "      <td>0.155556</td>\n",
       "      <td>0.424026</td>\n",
       "      <td>0.001680</td>\n",
       "      <td>1.0</td>\n",
       "      <td>2.725881</td>\n",
       "      <td>0.366854</td>\n",
       "    </tr>\n",
       "    <tr>\n",
       "      <th>75</th>\n",
       "      <td>GSK3B_WT.1</td>\n",
       "      <td>0.244444</td>\n",
       "      <td>1.494772</td>\n",
       "      <td>0.002640</td>\n",
       "      <td>1.0</td>\n",
       "      <td>6.114977</td>\n",
       "      <td>0.163533</td>\n",
       "    </tr>\n",
       "    <tr>\n",
       "      <th>197</th>\n",
       "      <td>WWTR1_WT</td>\n",
       "      <td>0.311111</td>\n",
       "      <td>2.086997</td>\n",
       "      <td>0.003360</td>\n",
       "      <td>1.0</td>\n",
       "      <td>6.708204</td>\n",
       "      <td>0.149071</td>\n",
       "    </tr>\n",
       "    <tr>\n",
       "      <th>130</th>\n",
       "      <td>PPARGC1A_WT.2</td>\n",
       "      <td>1.244444</td>\n",
       "      <td>5.343456</td>\n",
       "      <td>0.013439</td>\n",
       "      <td>1.0</td>\n",
       "      <td>4.293849</td>\n",
       "      <td>0.232891</td>\n",
       "    </tr>\n",
       "    <tr>\n",
       "      <th>26</th>\n",
       "      <td>BRAF_WT.2</td>\n",
       "      <td>1.577778</td>\n",
       "      <td>2.508974</td>\n",
       "      <td>0.017039</td>\n",
       "      <td>1.0</td>\n",
       "      <td>1.590195</td>\n",
       "      <td>0.628854</td>\n",
       "    </tr>\n",
       "    <tr>\n",
       "      <th>93</th>\n",
       "      <td>MAP2K3_WT</td>\n",
       "      <td>1.711111</td>\n",
       "      <td>4.197522</td>\n",
       "      <td>0.018479</td>\n",
       "      <td>1.0</td>\n",
       "      <td>2.453097</td>\n",
       "      <td>0.407648</td>\n",
       "    </tr>\n",
       "    <tr>\n",
       "      <th>37</th>\n",
       "      <td>CEBPA_WT.2</td>\n",
       "      <td>1.844444</td>\n",
       "      <td>1.870289</td>\n",
       "      <td>0.019918</td>\n",
       "      <td>1.0</td>\n",
       "      <td>1.014012</td>\n",
       "      <td>0.986182</td>\n",
       "    </tr>\n",
       "  </tbody>\n",
       "</table>\n",
       "</div>"
      ],
      "text/plain": [
       "         pert_name  first_hit       std  top_percent  percent_group  coef_var  \\\n",
       "46     CSNK1E_WT.2   0.000000  0.000000     0.000000            0.0       NaN   \n",
       "140     PRKCE_WT.1   0.022222  0.149071     0.000240            1.0  6.708204   \n",
       "90        JUN_WT.2   0.044444  0.298142     0.000480            1.0  6.708204   \n",
       "89        JUN_WT.1   0.155556  0.424026     0.001680            1.0  2.725881   \n",
       "75      GSK3B_WT.1   0.244444  1.494772     0.002640            1.0  6.114977   \n",
       "197       WWTR1_WT   0.311111  2.086997     0.003360            1.0  6.708204   \n",
       "130  PPARGC1A_WT.2   1.244444  5.343456     0.013439            1.0  4.293849   \n",
       "26       BRAF_WT.2   1.577778  2.508974     0.017039            1.0  1.590195   \n",
       "93       MAP2K3_WT   1.711111  4.197522     0.018479            1.0  2.453097   \n",
       "37      CEBPA_WT.2   1.844444  1.870289     0.019918            1.0  1.014012   \n",
       "\n",
       "     signal_noise  \n",
       "46            NaN  \n",
       "140      0.149071  \n",
       "90       0.149071  \n",
       "89       0.366854  \n",
       "75       0.163533  \n",
       "197      0.149071  \n",
       "130      0.232891  \n",
       "26       0.628854  \n",
       "93       0.407648  \n",
       "37       0.986182  "
      ]
     },
     "execution_count": 22,
     "metadata": {},
     "output_type": "execute_result"
    }
   ],
   "source": [
    "# Visualization\n",
    "img_summary = summarize(img_results)\n",
    "img_summary = visualize(img_summary)\n",
    "img_summary.head(n=10)"
   ]
  },
  {
   "cell_type": "markdown",
   "metadata": {},
   "source": [
    "# Well-level analysis"
   ]
  },
  {
   "cell_type": "code",
   "execution_count": 23,
   "metadata": {},
   "outputs": [
    {
     "name": "stdout",
     "output_type": "stream",
     "text": [
      "(672,) (672, 672)\n"
     ]
    }
   ],
   "source": [
    "# Batch correction\n",
    "well_controls = sc_control_features.groupby([\"Metadata_Plate\", \"Metadata_Well\", \"Metadata_Site\", \"pert_name\"]).mean().reset_index()\n",
    "well_controls = well_controls.groupby([\"Metadata_Plate\", \"Metadata_Well\", \"pert_name\"]).mean().reset_index()\n",
    "whN = profiling.WhiteningNormalizer(well_controls[feats], reg_param=REG_PARAM)"
   ]
  },
  {
   "cell_type": "code",
   "execution_count": 24,
   "metadata": {},
   "outputs": [],
   "source": [
    "# Profiling\n",
    "well_features = pd.concat((sc_treatments, pd.DataFrame(data=sc_features)), axis=1)\n",
    "well_features = well_features.groupby([\"Metadata_Plate\", \"Metadata_Well\", \"Metadata_Site\", \"pert_name\", \"broad_sample\"]).mean().reset_index()\n",
    "well_features = well_features.groupby([\"Metadata_Plate\", \"Metadata_Well\", \"pert_name\", \"broad_sample\"]).mean().reset_index()\n",
    "whD = whN.normalize(well_features[feats])\n",
    "well_features[feats] = whD"
   ]
  },
  {
   "cell_type": "code",
   "execution_count": 25,
   "metadata": {},
   "outputs": [
    {
     "name": "stderr",
     "output_type": "stream",
     "text": [
      "1029it [00:37, 27.28it/s]\n"
     ]
    }
   ],
   "source": [
    "# Evaluation\n",
    "well_results = find_first_hits(well_features, feats, PERT_NAME, CTRL_NAME)"
   ]
  },
  {
   "cell_type": "code",
   "execution_count": 26,
   "metadata": {},
   "outputs": [
    {
     "name": "stdout",
     "output_type": "stream",
     "text": [
      "Treatments with hits in the top 1%: 103\n"
     ]
    },
    {
     "data": {
      "image/png": "[encoded data removed]",
      "text/plain": [
       "<Figure size 720x360 with 1 Axes>"
      ]
     },
     "metadata": {
      "needs_background": "light"
     },
     "output_type": "display_data"
    },
    {
     "data": {
      "text/html": [
       "<div>\n",
       "<style scoped>\n",
       "    .dataframe tbody tr th:only-of-type {\n",
       "        vertical-align: middle;\n",
       "    }\n",
       "\n",
       "    .dataframe tbody tr th {\n",
       "        vertical-align: top;\n",
       "    }\n",
       "\n",
       "    .dataframe thead th {\n",
       "        text-align: right;\n",
       "    }\n",
       "</style>\n",
       "<table border=\"1\" class=\"dataframe\">\n",
       "  <thead>\n",
       "    <tr style=\"text-align: right;\">\n",
       "      <th></th>\n",
       "      <th>pert_name</th>\n",
       "      <th>first_hit</th>\n",
       "      <th>std</th>\n",
       "      <th>top_percent</th>\n",
       "      <th>percent_group</th>\n",
       "      <th>coef_var</th>\n",
       "      <th>signal_noise</th>\n",
       "    </tr>\n",
       "  </thead>\n",
       "  <tbody>\n",
       "    <tr>\n",
       "      <th>182</th>\n",
       "      <td>TGFBR1_WT.1</td>\n",
       "      <td>0.0</td>\n",
       "      <td>0.0</td>\n",
       "      <td>0.0</td>\n",
       "      <td>0.0</td>\n",
       "      <td>NaN</td>\n",
       "      <td>NaN</td>\n",
       "    </tr>\n",
       "    <tr>\n",
       "      <th>140</th>\n",
       "      <td>PRKCE_WT.1</td>\n",
       "      <td>0.0</td>\n",
       "      <td>0.0</td>\n",
       "      <td>0.0</td>\n",
       "      <td>0.0</td>\n",
       "      <td>NaN</td>\n",
       "      <td>NaN</td>\n",
       "    </tr>\n",
       "    <tr>\n",
       "      <th>54</th>\n",
       "      <td>DIABLO_WT</td>\n",
       "      <td>0.0</td>\n",
       "      <td>0.0</td>\n",
       "      <td>0.0</td>\n",
       "      <td>0.0</td>\n",
       "      <td>NaN</td>\n",
       "      <td>NaN</td>\n",
       "    </tr>\n",
       "    <tr>\n",
       "      <th>139</th>\n",
       "      <td>PRKACG_WT.3</td>\n",
       "      <td>0.0</td>\n",
       "      <td>0.0</td>\n",
       "      <td>0.0</td>\n",
       "      <td>0.0</td>\n",
       "      <td>NaN</td>\n",
       "      <td>NaN</td>\n",
       "    </tr>\n",
       "    <tr>\n",
       "      <th>153</th>\n",
       "      <td>REL_WT.1</td>\n",
       "      <td>0.0</td>\n",
       "      <td>0.0</td>\n",
       "      <td>0.0</td>\n",
       "      <td>0.0</td>\n",
       "      <td>NaN</td>\n",
       "      <td>NaN</td>\n",
       "    </tr>\n",
       "    <tr>\n",
       "      <th>65</th>\n",
       "      <td>ELK1_WT</td>\n",
       "      <td>0.0</td>\n",
       "      <td>0.0</td>\n",
       "      <td>0.0</td>\n",
       "      <td>0.0</td>\n",
       "      <td>NaN</td>\n",
       "      <td>NaN</td>\n",
       "    </tr>\n",
       "    <tr>\n",
       "      <th>132</th>\n",
       "      <td>PRKACA_WT.1</td>\n",
       "      <td>0.0</td>\n",
       "      <td>0.0</td>\n",
       "      <td>0.0</td>\n",
       "      <td>0.0</td>\n",
       "      <td>NaN</td>\n",
       "      <td>NaN</td>\n",
       "    </tr>\n",
       "    <tr>\n",
       "      <th>130</th>\n",
       "      <td>PPARGC1A_WT.2</td>\n",
       "      <td>0.0</td>\n",
       "      <td>0.0</td>\n",
       "      <td>0.0</td>\n",
       "      <td>0.0</td>\n",
       "      <td>NaN</td>\n",
       "      <td>NaN</td>\n",
       "    </tr>\n",
       "    <tr>\n",
       "      <th>89</th>\n",
       "      <td>JUN_WT.1</td>\n",
       "      <td>0.0</td>\n",
       "      <td>0.0</td>\n",
       "      <td>0.0</td>\n",
       "      <td>0.0</td>\n",
       "      <td>NaN</td>\n",
       "      <td>NaN</td>\n",
       "    </tr>\n",
       "    <tr>\n",
       "      <th>98</th>\n",
       "      <td>MAP3K9_WT</td>\n",
       "      <td>0.0</td>\n",
       "      <td>0.0</td>\n",
       "      <td>0.0</td>\n",
       "      <td>0.0</td>\n",
       "      <td>NaN</td>\n",
       "      <td>NaN</td>\n",
       "    </tr>\n",
       "  </tbody>\n",
       "</table>\n",
       "</div>"
      ],
      "text/plain": [
       "         pert_name  first_hit  std  top_percent  percent_group  coef_var  \\\n",
       "182    TGFBR1_WT.1        0.0  0.0          0.0            0.0       NaN   \n",
       "140     PRKCE_WT.1        0.0  0.0          0.0            0.0       NaN   \n",
       "54       DIABLO_WT        0.0  0.0          0.0            0.0       NaN   \n",
       "139    PRKACG_WT.3        0.0  0.0          0.0            0.0       NaN   \n",
       "153       REL_WT.1        0.0  0.0          0.0            0.0       NaN   \n",
       "65         ELK1_WT        0.0  0.0          0.0            0.0       NaN   \n",
       "132    PRKACA_WT.1        0.0  0.0          0.0            0.0       NaN   \n",
       "130  PPARGC1A_WT.2        0.0  0.0          0.0            0.0       NaN   \n",
       "89        JUN_WT.1        0.0  0.0          0.0            0.0       NaN   \n",
       "98       MAP3K9_WT        0.0  0.0          0.0            0.0       NaN   \n",
       "\n",
       "     signal_noise  \n",
       "182           NaN  \n",
       "140           NaN  \n",
       "54            NaN  \n",
       "139           NaN  \n",
       "153           NaN  \n",
       "65            NaN  \n",
       "132           NaN  \n",
       "130           NaN  \n",
       "89            NaN  \n",
       "98            NaN  "
      ]
     },
     "execution_count": 26,
     "metadata": {},
     "output_type": "execute_result"
    }
   ],
   "source": [
    "# Visualization\n",
    "well_summary = summarize(well_results)\n",
    "well_summary = visualize(well_summary)\n",
    "well_summary.head(n=10)"
   ]
  },
  {
   "cell_type": "markdown",
   "metadata": {},
   "source": [
    "# Treatment-level analysis"
   ]
  },
  {
   "cell_type": "code",
   "execution_count": 27,
   "metadata": {},
   "outputs": [],
   "source": [
    "# Profiling\n",
    "treatment_features = well_features.groupby([\"pert_name\", \"broad_sample\"]).mean().reset_index()\n",
    "treatment_features = treatment_features.sort_values(\"broad_sample\").reset_index(drop=True)"
   ]
  },
  {
   "cell_type": "code",
   "execution_count": 28,
   "metadata": {},
   "outputs": [
    {
     "name": "stdout",
     "output_type": "stream",
     "text": [
      "Treatments with ground truth: 205\n"
     ]
    },
    {
     "data": {
      "text/plain": [
       "<matplotlib.image.AxesImage at 0x7f03640efb00>"
      ]
     },
     "execution_count": 28,
     "metadata": {},
     "output_type": "execute_result"
    },
    {
     "data": {
      "image/png": "[encoded data removed]",
      "text/plain": [
       "<Figure size 432x288 with 1 Axes>"
      ]
     },
     "metadata": {
      "needs_background": "light"
     },
     "output_type": "display_data"
    }
   ],
   "source": [
    "# Ground truth connections\n",
    "X, Y = profiling.load_correlation_matrix(CORR_MATRIX)\n",
    "Y[\"broad_sample\"] = treatment_features.broad_sample\n",
    "print(\"Treatments with ground truth:\", np.sum(Y.broad_sample == Y.Var1))\n",
    "\n",
    "moa_matches = []\n",
    "for k,r in Y.iterrows():\n",
    "    m = Y[\"Metadata_moa.x\"] == r[\"Metadata_moa.x\"]\n",
    "    moa_matches.append(m)\n",
    "moa_matches = np.asarray(moa_matches, dtype=np.uint8)\n",
    "plt.imshow(moa_matches)"
   ]
  },
  {
   "cell_type": "code",
   "execution_count": 29,
   "metadata": {},
   "outputs": [],
   "source": [
    "# Similarity search\n",
    "F = treatment_features.loc[treatment_features[PERT_NAME] != CTRL_NAME, feats]\n",
    "C = np.dot(F, F.T)\n",
    "Fn = np.linalg.norm(F, axis=1)\n",
    "cos = C / (Fn[:,np.newaxis] @ Fn[:,np.newaxis].T)\n",
    "ranking = np.argsort(-cos, axis=1)"
   ]
  },
  {
   "cell_type": "code",
   "execution_count": 30,
   "metadata": {},
   "outputs": [
    {
     "name": "stdout",
     "output_type": "stream",
     "text": [
      "2 Chromatin Modifiers\n",
      "107 SMAD/ TGFb\n"
     ]
    }
   ],
   "source": [
    "# First hits evaluation\n",
    "results = []\n",
    "for h in range(cos.shape[0]):\n",
    "    hit = np.where(moa_matches[h, ranking[h]] == 1)[0]\n",
    "    if len(hit) >= 2:\n",
    "        hit = hit[1]\n",
    "    else:\n",
    "        hit = 0\n",
    "        print(h, Y.loc[h, \"Metadata_moa.x\"])\n",
    "    results.append({\"broad_sample\":treatment_features.loc[h, \"broad_sample\"], \n",
    "                    \"pert_name\":treatment_features.loc[h, \"pert_name\"],\n",
    "                    \"first_hit\": hit,\n",
    "                   })\n",
    "results = pd.DataFrame(data=results)"
   ]
  },
  {
   "cell_type": "code",
   "execution_count": 31,
   "metadata": {},
   "outputs": [
    {
     "name": "stdout",
     "output_type": "stream",
     "text": [
      "Treatments with hits in the top 1%: 87\n"
     ]
    },
    {
     "data": {
      "image/png": "[encoded data removed]",
      "text/plain": [
       "<Figure size 720x360 with 1 Axes>"
      ]
     },
     "metadata": {
      "needs_background": "light"
     },
     "output_type": "display_data"
    },
    {
     "data": {
      "text/html": [
       "<div>\n",
       "<style scoped>\n",
       "    .dataframe tbody tr th:only-of-type {\n",
       "        vertical-align: middle;\n",
       "    }\n",
       "\n",
       "    .dataframe tbody tr th {\n",
       "        vertical-align: top;\n",
       "    }\n",
       "\n",
       "    .dataframe thead th {\n",
       "        text-align: right;\n",
       "    }\n",
       "</style>\n",
       "<table border=\"1\" class=\"dataframe\">\n",
       "  <thead>\n",
       "    <tr style=\"text-align: right;\">\n",
       "      <th></th>\n",
       "      <th>broad_sample</th>\n",
       "      <th>pert_name</th>\n",
       "      <th>first_hit</th>\n",
       "      <th>top_percent</th>\n",
       "    </tr>\n",
       "  </thead>\n",
       "  <tbody>\n",
       "    <tr>\n",
       "      <th>107</th>\n",
       "      <td>ccsbBroad304_00964</td>\n",
       "      <td>SMAD7_WT</td>\n",
       "      <td>0</td>\n",
       "      <td>0.000000</td>\n",
       "    </tr>\n",
       "    <tr>\n",
       "      <th>2</th>\n",
       "      <td>BRDN0000464848</td>\n",
       "      <td>CREBBP_WT</td>\n",
       "      <td>0</td>\n",
       "      <td>0.000000</td>\n",
       "    </tr>\n",
       "    <tr>\n",
       "      <th>0</th>\n",
       "      <td>BRDN0000464846</td>\n",
       "      <td>CEBPA_WT.1</td>\n",
       "      <td>1</td>\n",
       "      <td>0.487805</td>\n",
       "    </tr>\n",
       "    <tr>\n",
       "      <th>66</th>\n",
       "      <td>BRDN0000464936</td>\n",
       "      <td>GRB10_WT.2</td>\n",
       "      <td>1</td>\n",
       "      <td>0.487805</td>\n",
       "    </tr>\n",
       "    <tr>\n",
       "      <th>65</th>\n",
       "      <td>BRDN0000464935</td>\n",
       "      <td>MAP2K4_WT.1</td>\n",
       "      <td>1</td>\n",
       "      <td>0.487805</td>\n",
       "    </tr>\n",
       "    <tr>\n",
       "      <th>...</th>\n",
       "      <td>...</td>\n",
       "      <td>...</td>\n",
       "      <td>...</td>\n",
       "      <td>...</td>\n",
       "    </tr>\n",
       "    <tr>\n",
       "      <th>163</th>\n",
       "      <td>ccsbBroad304_06846</td>\n",
       "      <td>RB1_WT.2</td>\n",
       "      <td>106</td>\n",
       "      <td>51.707317</td>\n",
       "    </tr>\n",
       "    <tr>\n",
       "      <th>158</th>\n",
       "      <td>ccsbBroad304_06770</td>\n",
       "      <td>PRKAA1_WT.2</td>\n",
       "      <td>130</td>\n",
       "      <td>63.414634</td>\n",
       "    </tr>\n",
       "    <tr>\n",
       "      <th>178</th>\n",
       "      <td>ccsbBroad304_09091</td>\n",
       "      <td>SLIRP_WT.1</td>\n",
       "      <td>134</td>\n",
       "      <td>65.365854</td>\n",
       "    </tr>\n",
       "    <tr>\n",
       "      <th>26</th>\n",
       "      <td>BRDN0000464873</td>\n",
       "      <td>PPARGC1A_WT.2</td>\n",
       "      <td>141</td>\n",
       "      <td>68.780488</td>\n",
       "    </tr>\n",
       "    <tr>\n",
       "      <th>169</th>\n",
       "      <td>ccsbBroad304_07088</td>\n",
       "      <td>TP53_WT.2</td>\n",
       "      <td>141</td>\n",
       "      <td>68.780488</td>\n",
       "    </tr>\n",
       "  </tbody>\n",
       "</table>\n",
       "<p>205 rows × 4 columns</p>\n",
       "</div>"
      ],
      "text/plain": [
       "           broad_sample      pert_name  first_hit  top_percent\n",
       "107  ccsbBroad304_00964       SMAD7_WT          0     0.000000\n",
       "2        BRDN0000464848      CREBBP_WT          0     0.000000\n",
       "0        BRDN0000464846     CEBPA_WT.1          1     0.487805\n",
       "66       BRDN0000464936     GRB10_WT.2          1     0.487805\n",
       "65       BRDN0000464935    MAP2K4_WT.1          1     0.487805\n",
       "..                  ...            ...        ...          ...\n",
       "163  ccsbBroad304_06846       RB1_WT.2        106    51.707317\n",
       "158  ccsbBroad304_06770    PRKAA1_WT.2        130    63.414634\n",
       "178  ccsbBroad304_09091     SLIRP_WT.1        134    65.365854\n",
       "26       BRDN0000464873  PPARGC1A_WT.2        141    68.780488\n",
       "169  ccsbBroad304_07088      TP53_WT.2        141    68.780488\n",
       "\n",
       "[205 rows x 4 columns]"
      ]
     },
     "execution_count": 31,
     "metadata": {},
     "output_type": "execute_result"
    }
   ],
   "source": [
    "# Summary statistics per treatment\n",
    "results[\"top_percent\"] = (results[\"first_hit\"] / len(results))*100\n",
    "visualize(results)"
   ]
  },
  {
   "cell_type": "code",
   "execution_count": 32,
   "metadata": {},
   "outputs": [
    {
     "data": {
      "text/plain": [
       "<matplotlib.axes._subplots.AxesSubplot at 0x7f036410ec88>"
      ]
     },
     "execution_count": 32,
     "metadata": {},
     "output_type": "execute_result"
    },
    {
     "data": {
      "image/png": "[encoded data removed]",
      "text/plain": [
       "<Figure size 432x288 with 1 Axes>"
      ]
     },
     "metadata": {
      "needs_background": "light"
     },
     "output_type": "display_data"
    }
   ],
   "source": [
    "# Summary per MOA\n",
    "moa_results = pd.merge(results, Y, on=\"broad_sample\").groupby(\"Metadata_moa.x\")[\"first_hit\"].mean().reset_index()\n",
    "moa_results[\"top_percent\"] = (moa_results[\"first_hit\"] / len(results))*100\n",
    "moa_results = moa_results.sort_values(\"top_percent\")\n",
    "sb.barplot(data=moa_results, x=\"Metadata_moa.x\", y=\"top_percent\")\n",
    "moa_results"
   ]
  },
  {
   "cell_type": "code",
   "execution_count": null,
   "metadata": {},
   "outputs": [],
   "source": []
  }
 ],
 "metadata": {
  "kernelspec": {
   "display_name": "Python 3",
   "language": "python",
   "name": "python3"
  },
  "language_info": {
   "codemirror_mode": {
    "name": "ipython",
    "version": 3
   },
   "file_extension": ".py",
   "mimetype": "text/x-python",
   "name": "python",
   "nbconvert_exporter": "python",
   "pygments_lexer": "ipython3",
   "version": "3.7.3"
  }
 },
 "nbformat": 4,
 "nbformat_minor": 4
}
